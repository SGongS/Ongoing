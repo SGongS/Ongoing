{
 "cells": [
  {
   "cell_type": "markdown",
   "metadata": {},
   "source": [
    "# Try to build a numpy array with the data in data.txt  using f = open('data.txt') instead if np.loadtxt and np.genfromtxt. "
   ]
  },
  {
   "cell_type": "code",
   "execution_count": 1,
   "metadata": {},
   "outputs": [],
   "source": [
    "import numpy as np"
   ]
  },
  {
   "cell_type": "markdown",
   "metadata": {},
   "source": [
    "I try way 'a' and way 'b' to get rid of \\n"
   ]
  },
  {
   "cell_type": "code",
   "execution_count": 2,
   "metadata": {},
   "outputs": [],
   "source": [
    "f = open('data.txt', 'r')\n",
    "a = [line.strip().split() for line in f]#a is a list"
   ]
  },
  {
   "cell_type": "code",
   "execution_count": 3,
   "metadata": {},
   "outputs": [
    {
     "data": {
      "text/plain": [
       "[['#', 'Name', 'ID', 'RA', 'DEC', 'z', 'z_err', 'zQF'],\n",
       " ['0011',\n",
       "  '11.0',\n",
       "  '69.60398',\n",
       "  '-12.33483',\n",
       "  '0.14502699731',\n",
       "  '5.39539923983e-05',\n",
       "  '0.0'],\n",
       " ['0038',\n",
       "  '38.0',\n",
       "  '69.5969',\n",
       "  '-12.32047',\n",
       "  '0.502938602945',\n",
       "  '0.000222303791245',\n",
       "  '1.0'],\n",
       " ['0042', '42.0', '69.57136', '-12.31795', '0.0', '0.001', '0.0'],\n",
       " ['0055', '55.0', '69.59832', '-12.31157', '0.0', '0.001', '0.0'],\n",
       " ['0057', '57.0', '69.5978429', '-12.311442', '0.0', '0.001', '0.0'],\n",
       " ['0072', '72.0', '69.61111', '-12.3037', '0.0', '0.001', '0.0'],\n",
       " ['0080', '80.0', '69.55023', '-12.30339', '0.0', '0.001', '0.0'],\n",
       " ['0083', '83.0', '69.58752', '-12.30232', '0.0', '0.001', '0.0'],\n",
       " ['0085', '85.0', '69.56567', '-12.30147', '0.0', '0.001', '0.0'],\n",
       " ['0111', '111.0', '69.59927', '-12.29414', '0.0', '0.001', '0.0'],\n",
       " ['0114', '114.0', '69.52129', '-12.2893', '0.0', '0.001', '0.0'],\n",
       " ['0119', '119.0', '69.5651', '-12.28924', '0.0', '0.001', '0.0'],\n",
       " ['0125', '125.0', '69.53808', '-12.28883', '0.0', '0.001', '0.0'],\n",
       " ['0126', '126.0', '69.54177', '-12.28782', '0.0', '0.001', '0.0'],\n",
       " ['0128',\n",
       "  '128.0',\n",
       "  '69.60646',\n",
       "  '-12.28668',\n",
       "  '0.369864207858',\n",
       "  '8.03355766875e-05',\n",
       "  '0.0'],\n",
       " ['0164',\n",
       "  '164.0',\n",
       "  '69.52007',\n",
       "  '-12.24671',\n",
       "  '0.581369862213',\n",
       "  '0.000216496440347',\n",
       "  '2.0'],\n",
       " ['0182', '182.0', '69.53533', '-12.25025', '0.0', '0.001', '0.0'],\n",
       " ['0185',\n",
       "  '185.0',\n",
       "  '69.52459',\n",
       "  '-12.24947',\n",
       "  '0.585115787002',\n",
       "  '0.000104162060008',\n",
       "  '0.0'],\n",
       " ['0190', '190.0', '69.55228', '-12.25292', '0.0', '0.001', '0.0']]"
      ]
     },
     "execution_count": 3,
     "metadata": {},
     "output_type": "execute_result"
    }
   ],
   "source": [
    "a"
   ]
  },
  {
   "cell_type": "markdown",
   "metadata": {},
   "source": [
    "**DS** Here, what I would do is convert your list into an array. \n",
    "Because the first row of your list is made of string, you'll have trouble converting the list into an array of float in one single command line ... but you can do it after reading the file. Hence: "
   ]
  },
  {
   "cell_type": "code",
   "execution_count": 4,
   "metadata": {},
   "outputs": [],
   "source": [
    "myarray_of_data = np.array(a[1:], dtype=float)"
   ]
  },
  {
   "cell_type": "code",
   "execution_count": 5,
   "metadata": {},
   "outputs": [
    {
     "data": {
      "text/plain": [
       "((19, 7), dtype('float64'))"
      ]
     },
     "execution_count": 5,
     "metadata": {},
     "output_type": "execute_result"
    }
   ],
   "source": [
    "myarray_of_data.shape, myarray_of_data.dtype"
   ]
  },
  {
   "cell_type": "code",
   "execution_count": 6,
   "metadata": {},
   "outputs": [
    {
     "data": {
      "text/plain": [
       "array([[ 1.10000000e+01,  1.10000000e+01,  6.96039800e+01,\n",
       "        -1.23348300e+01,  1.45026997e-01,  5.39539924e-05,\n",
       "         0.00000000e+00],\n",
       "       [ 3.80000000e+01,  3.80000000e+01,  6.95969000e+01,\n",
       "        -1.23204700e+01,  5.02938603e-01,  2.22303791e-04,\n",
       "         1.00000000e+00],\n",
       "       [ 4.20000000e+01,  4.20000000e+01,  6.95713600e+01,\n",
       "        -1.23179500e+01,  0.00000000e+00,  1.00000000e-03,\n",
       "         0.00000000e+00],\n",
       "       [ 5.50000000e+01,  5.50000000e+01,  6.95983200e+01,\n",
       "        -1.23115700e+01,  0.00000000e+00,  1.00000000e-03,\n",
       "         0.00000000e+00],\n",
       "       [ 5.70000000e+01,  5.70000000e+01,  6.95978429e+01,\n",
       "        -1.23114420e+01,  0.00000000e+00,  1.00000000e-03,\n",
       "         0.00000000e+00],\n",
       "       [ 7.20000000e+01,  7.20000000e+01,  6.96111100e+01,\n",
       "        -1.23037000e+01,  0.00000000e+00,  1.00000000e-03,\n",
       "         0.00000000e+00],\n",
       "       [ 8.00000000e+01,  8.00000000e+01,  6.95502300e+01,\n",
       "        -1.23033900e+01,  0.00000000e+00,  1.00000000e-03,\n",
       "         0.00000000e+00],\n",
       "       [ 8.30000000e+01,  8.30000000e+01,  6.95875200e+01,\n",
       "        -1.23023200e+01,  0.00000000e+00,  1.00000000e-03,\n",
       "         0.00000000e+00],\n",
       "       [ 8.50000000e+01,  8.50000000e+01,  6.95656700e+01,\n",
       "        -1.23014700e+01,  0.00000000e+00,  1.00000000e-03,\n",
       "         0.00000000e+00],\n",
       "       [ 1.11000000e+02,  1.11000000e+02,  6.95992700e+01,\n",
       "        -1.22941400e+01,  0.00000000e+00,  1.00000000e-03,\n",
       "         0.00000000e+00],\n",
       "       [ 1.14000000e+02,  1.14000000e+02,  6.95212900e+01,\n",
       "        -1.22893000e+01,  0.00000000e+00,  1.00000000e-03,\n",
       "         0.00000000e+00],\n",
       "       [ 1.19000000e+02,  1.19000000e+02,  6.95651000e+01,\n",
       "        -1.22892400e+01,  0.00000000e+00,  1.00000000e-03,\n",
       "         0.00000000e+00],\n",
       "       [ 1.25000000e+02,  1.25000000e+02,  6.95380800e+01,\n",
       "        -1.22888300e+01,  0.00000000e+00,  1.00000000e-03,\n",
       "         0.00000000e+00],\n",
       "       [ 1.26000000e+02,  1.26000000e+02,  6.95417700e+01,\n",
       "        -1.22878200e+01,  0.00000000e+00,  1.00000000e-03,\n",
       "         0.00000000e+00],\n",
       "       [ 1.28000000e+02,  1.28000000e+02,  6.96064600e+01,\n",
       "        -1.22866800e+01,  3.69864208e-01,  8.03355767e-05,\n",
       "         0.00000000e+00],\n",
       "       [ 1.64000000e+02,  1.64000000e+02,  6.95200700e+01,\n",
       "        -1.22467100e+01,  5.81369862e-01,  2.16496440e-04,\n",
       "         2.00000000e+00],\n",
       "       [ 1.82000000e+02,  1.82000000e+02,  6.95353300e+01,\n",
       "        -1.22502500e+01,  0.00000000e+00,  1.00000000e-03,\n",
       "         0.00000000e+00],\n",
       "       [ 1.85000000e+02,  1.85000000e+02,  6.95245900e+01,\n",
       "        -1.22494700e+01,  5.85115787e-01,  1.04162060e-04,\n",
       "         0.00000000e+00],\n",
       "       [ 1.90000000e+02,  1.90000000e+02,  6.95522800e+01,\n",
       "        -1.22529200e+01,  0.00000000e+00,  1.00000000e-03,\n",
       "         0.00000000e+00]])"
      ]
     },
     "execution_count": 6,
     "metadata": {},
     "output_type": "execute_result"
    }
   ],
   "source": [
    "# An alternative code would be \n",
    "f = open('data.txt', 'r')\n",
    "lines = f.readlines()\n",
    "# Note here that I start at row 1\n",
    "myarray = np.array([lines[i].strip().split() for i in range(1, len(lines))], dtype=float)\n",
    "f.close()\n",
    "myarray"
   ]
  },
  {
   "cell_type": "code",
   "execution_count": 7,
   "metadata": {},
   "outputs": [],
   "source": [
    "# To write this array into a file, you can use np.savetxt()\n",
    "np.savetxt('myfile.txt', myarray_of_data)"
   ]
  },
  {
   "cell_type": "code",
   "execution_count": 8,
   "metadata": {},
   "outputs": [],
   "source": [
    "# If you wish to write it in a more controled way \n",
    "myhead = '# Name ID RA DEC z z_err zQF \\n'\n",
    "f = open('myfile.txt', 'w')\n",
    "f.writelines(myhead)\n",
    "for i in range(myarray_of_data.shape[0]):\n",
    "    lst_fmt = ['%.4i ', '%.1f ', '%.5f ', '%.5f ', '%.f ', '%.4f ',  '%.f \\n'] # list of format of the different colums \n",
    "    # Note the space included there to separate the columns, you can use \\t to have a tab or a comma if you wish csv like file\n",
    "    f.writelines([lst_fmt[j]%myarray_of_data[i, j] for j in range(7)])\n",
    "f.close()"
   ]
  },
  {
   "cell_type": "markdown",
   "metadata": {},
   "source": [
    "**DS** Below is your original code"
   ]
  },
  {
   "cell_type": "code",
   "execution_count": 9,
   "metadata": {},
   "outputs": [],
   "source": [
    "f = open('data.txt', 'r')\n",
    "b = np.array([line.strip().split() for line in f])#b is an array\n",
    "b = b[1:len(b)]#\"!head data.txt -2 \" this code doen't work"
   ]
  },
  {
   "cell_type": "code",
   "execution_count": 10,
   "metadata": {},
   "outputs": [
    {
     "data": {
      "text/plain": [
       "array([list(['0011', '11.0', '69.60398', '-12.33483', '0.14502699731', '5.39539923983e-05', '0.0']),\n",
       "       list(['0038', '38.0', '69.5969', '-12.32047', '0.502938602945', '0.000222303791245', '1.0']),\n",
       "       list(['0042', '42.0', '69.57136', '-12.31795', '0.0', '0.001', '0.0']),\n",
       "       list(['0055', '55.0', '69.59832', '-12.31157', '0.0', '0.001', '0.0']),\n",
       "       list(['0057', '57.0', '69.5978429', '-12.311442', '0.0', '0.001', '0.0']),\n",
       "       list(['0072', '72.0', '69.61111', '-12.3037', '0.0', '0.001', '0.0']),\n",
       "       list(['0080', '80.0', '69.55023', '-12.30339', '0.0', '0.001', '0.0']),\n",
       "       list(['0083', '83.0', '69.58752', '-12.30232', '0.0', '0.001', '0.0']),\n",
       "       list(['0085', '85.0', '69.56567', '-12.30147', '0.0', '0.001', '0.0']),\n",
       "       list(['0111', '111.0', '69.59927', '-12.29414', '0.0', '0.001', '0.0']),\n",
       "       list(['0114', '114.0', '69.52129', '-12.2893', '0.0', '0.001', '0.0']),\n",
       "       list(['0119', '119.0', '69.5651', '-12.28924', '0.0', '0.001', '0.0']),\n",
       "       list(['0125', '125.0', '69.53808', '-12.28883', '0.0', '0.001', '0.0']),\n",
       "       list(['0126', '126.0', '69.54177', '-12.28782', '0.0', '0.001', '0.0']),\n",
       "       list(['0128', '128.0', '69.60646', '-12.28668', '0.369864207858', '8.03355766875e-05', '0.0']),\n",
       "       list(['0164', '164.0', '69.52007', '-12.24671', '0.581369862213', '0.000216496440347', '2.0']),\n",
       "       list(['0182', '182.0', '69.53533', '-12.25025', '0.0', '0.001', '0.0']),\n",
       "       list(['0185', '185.0', '69.52459', '-12.24947', '0.585115787002', '0.000104162060008', '0.0']),\n",
       "       list(['0190', '190.0', '69.55228', '-12.25292', '0.0', '0.001', '0.0'])],\n",
       "      dtype=object)"
      ]
     },
     "execution_count": 10,
     "metadata": {},
     "output_type": "execute_result"
    }
   ],
   "source": [
    "b"
   ]
  },
  {
   "cell_type": "code",
   "execution_count": 11,
   "metadata": {},
   "outputs": [
    {
     "name": "stdout",
     "output_type": "stream",
     "text": [
      "object\n",
      "(19,)\n",
      "19\n"
     ]
    }
   ],
   "source": [
    "print(b.dtype)\n",
    "print(b.shape)\n",
    "print(b.size)"
   ]
  },
  {
   "cell_type": "markdown",
   "metadata": {},
   "source": [
    "??? how to create an array in an easy way which is not a list like 'a' or not an object like 'b'. "
   ]
  },
  {
   "cell_type": "code",
   "execution_count": 12,
   "metadata": {},
   "outputs": [
    {
     "data": {
      "text/plain": [
       "array([list(['0011', '11.0', '69.60398', '-12.33483', '0.14502699731', '5.39539923983e-05', '0.0']),\n",
       "       list(['0038', '38.0', '69.5969', '-12.32047', '0.502938602945', '0.000222303791245', '1.0']),\n",
       "       list(['0042', '42.0', '69.57136', '-12.31795', '0.0', '0.001', '0.0']),\n",
       "       list(['0055', '55.0', '69.59832', '-12.31157', '0.0', '0.001', '0.0']),\n",
       "       list(['0057', '57.0', '69.5978429', '-12.311442', '0.0', '0.001', '0.0']),\n",
       "       list(['0072', '72.0', '69.61111', '-12.3037', '0.0', '0.001', '0.0']),\n",
       "       list(['0080', '80.0', '69.55023', '-12.30339', '0.0', '0.001', '0.0']),\n",
       "       list(['0083', '83.0', '69.58752', '-12.30232', '0.0', '0.001', '0.0']),\n",
       "       list(['0085', '85.0', '69.56567', '-12.30147', '0.0', '0.001', '0.0']),\n",
       "       list(['0111', '111.0', '69.59927', '-12.29414', '0.0', '0.001', '0.0']),\n",
       "       list(['0114', '114.0', '69.52129', '-12.2893', '0.0', '0.001', '0.0']),\n",
       "       list(['0119', '119.0', '69.5651', '-12.28924', '0.0', '0.001', '0.0']),\n",
       "       list(['0125', '125.0', '69.53808', '-12.28883', '0.0', '0.001', '0.0']),\n",
       "       list(['0126', '126.0', '69.54177', '-12.28782', '0.0', '0.001', '0.0']),\n",
       "       list(['0128', '128.0', '69.60646', '-12.28668', '0.369864207858', '8.03355766875e-05', '0.0']),\n",
       "       list(['0164', '164.0', '69.52007', '-12.24671', '0.581369862213', '0.000216496440347', '2.0']),\n",
       "       list(['0182', '182.0', '69.53533', '-12.25025', '0.0', '0.001', '0.0']),\n",
       "       list(['0185', '185.0', '69.52459', '-12.24947', '0.585115787002', '0.000104162060008', '0.0']),\n",
       "       list(['0190', '190.0', '69.55228', '-12.25292', '0.0', '0.001', '0.0'])],\n",
       "      dtype=object)"
      ]
     },
     "execution_count": 12,
     "metadata": {},
     "output_type": "execute_result"
    }
   ],
   "source": [
    "b # I want to crate a float array from b"
   ]
  },
  {
   "cell_type": "code",
   "execution_count": 13,
   "metadata": {},
   "outputs": [],
   "source": [
    "n = len(b)\n",
    "m = len(b[0])"
   ]
  },
  {
   "cell_type": "code",
   "execution_count": 14,
   "metadata": {},
   "outputs": [],
   "source": [
    "new_array = np.empty(shape=(n,m))"
   ]
  },
  {
   "cell_type": "code",
   "execution_count": 15,
   "metadata": {},
   "outputs": [
    {
     "data": {
      "text/plain": [
       "'0011'"
      ]
     },
     "execution_count": 15,
     "metadata": {},
     "output_type": "execute_result"
    }
   ],
   "source": [
    "b[0][0]"
   ]
  },
  {
   "cell_type": "markdown",
   "metadata": {},
   "source": [
    "??? I have to use two for loop so that I can extract data from b"
   ]
  },
  {
   "cell_type": "code",
   "execution_count": 16,
   "metadata": {},
   "outputs": [],
   "source": [
    "for i in np.arange(n):\n",
    "    for j in np.arange(m):\n",
    "        new_array[i,j]=b[i][j]"
   ]
  },
  {
   "cell_type": "code",
   "execution_count": 17,
   "metadata": {},
   "outputs": [
    {
     "data": {
      "text/plain": [
       "dtype('float64')"
      ]
     },
     "execution_count": 17,
     "metadata": {},
     "output_type": "execute_result"
    }
   ],
   "source": [
    "new_array.dtype"
   ]
  },
  {
   "cell_type": "code",
   "execution_count": 18,
   "metadata": {},
   "outputs": [
    {
     "name": "stdout",
     "output_type": "stream",
     "text": [
      "float64\n"
     ]
    }
   ],
   "source": [
    "g = np.genfromtxt('data.txt')\n",
    "print(g.dtype)"
   ]
  },
  {
   "cell_type": "code",
   "execution_count": 19,
   "metadata": {},
   "outputs": [
    {
     "data": {
      "text/plain": [
       "array([[0., 0., 0., 0., 0., 0., 0.],\n",
       "       [0., 0., 0., 0., 0., 0., 0.],\n",
       "       [0., 0., 0., 0., 0., 0., 0.],\n",
       "       [0., 0., 0., 0., 0., 0., 0.],\n",
       "       [0., 0., 0., 0., 0., 0., 0.],\n",
       "       [0., 0., 0., 0., 0., 0., 0.],\n",
       "       [0., 0., 0., 0., 0., 0., 0.],\n",
       "       [0., 0., 0., 0., 0., 0., 0.],\n",
       "       [0., 0., 0., 0., 0., 0., 0.],\n",
       "       [0., 0., 0., 0., 0., 0., 0.],\n",
       "       [0., 0., 0., 0., 0., 0., 0.],\n",
       "       [0., 0., 0., 0., 0., 0., 0.],\n",
       "       [0., 0., 0., 0., 0., 0., 0.],\n",
       "       [0., 0., 0., 0., 0., 0., 0.],\n",
       "       [0., 0., 0., 0., 0., 0., 0.],\n",
       "       [0., 0., 0., 0., 0., 0., 0.],\n",
       "       [0., 0., 0., 0., 0., 0., 0.],\n",
       "       [0., 0., 0., 0., 0., 0., 0.],\n",
       "       [0., 0., 0., 0., 0., 0., 0.]])"
      ]
     },
     "execution_count": 19,
     "metadata": {},
     "output_type": "execute_result"
    }
   ],
   "source": [
    "new_array-g"
   ]
  },
  {
   "cell_type": "markdown",
   "metadata": {},
   "source": [
    "I want to create a new txt file and write in something, but it doen't really work"
   ]
  },
  {
   "cell_type": "code",
   "execution_count": 20,
   "metadata": {},
   "outputs": [
    {
     "ename": "TypeError",
     "evalue": "write() argument must be str, not list",
     "output_type": "error",
     "traceback": [
      "\u001b[0;31m---------------------------------------------------------------------------\u001b[0m",
      "\u001b[0;31mTypeError\u001b[0m                                 Traceback (most recent call last)",
      "\u001b[0;32m<ipython-input-20-e47f6631dbec>\u001b[0m in \u001b[0;36m<module>\u001b[0;34m\u001b[0m\n\u001b[1;32m      1\u001b[0m \u001b[0mmf\u001b[0m \u001b[0;34m=\u001b[0m \u001b[0mopen\u001b[0m\u001b[0;34m(\u001b[0m\u001b[0;34m'myfile.txt'\u001b[0m\u001b[0;34m,\u001b[0m \u001b[0;34m'w'\u001b[0m\u001b[0;34m)\u001b[0m\u001b[0;31m#create a new txt file\u001b[0m\u001b[0;34m\u001b[0m\u001b[0;34m\u001b[0m\u001b[0m\n\u001b[1;32m      2\u001b[0m \u001b[0;32mfor\u001b[0m \u001b[0mi\u001b[0m \u001b[0;32min\u001b[0m \u001b[0mnp\u001b[0m\u001b[0;34m.\u001b[0m\u001b[0marange\u001b[0m\u001b[0;34m(\u001b[0m\u001b[0mn\u001b[0m\u001b[0;34m)\u001b[0m\u001b[0;34m:\u001b[0m\u001b[0;34m\u001b[0m\u001b[0;34m\u001b[0m\u001b[0m\n\u001b[0;32m----> 3\u001b[0;31m     \u001b[0mmf\u001b[0m\u001b[0;34m.\u001b[0m\u001b[0mwrite\u001b[0m\u001b[0;34m(\u001b[0m\u001b[0mb\u001b[0m\u001b[0;34m[\u001b[0m\u001b[0mi\u001b[0m\u001b[0;34m]\u001b[0m\u001b[0;34m)\u001b[0m\u001b[0;34m\u001b[0m\u001b[0;34m\u001b[0m\u001b[0m\n\u001b[0m",
      "\u001b[0;31mTypeError\u001b[0m: write() argument must be str, not list"
     ]
    }
   ],
   "source": [
    "mf = open('myfile.txt', 'w')#create a new txt file\n",
    "for i in np.arange(n):\n",
    "    mf.write(b[i])"
   ]
  },
  {
   "cell_type": "markdown",
   "metadata": {},
   "source": [
    "??? b[i] is a list, but it is a string list, I have to take the string elements one by one out of b[i]"
   ]
  },
  {
   "cell_type": "code",
   "execution_count": 21,
   "metadata": {},
   "outputs": [
    {
     "data": {
      "text/plain": [
       "7"
      ]
     },
     "execution_count": 21,
     "metadata": {},
     "output_type": "execute_result"
    }
   ],
   "source": [
    "len(b[0])"
   ]
  },
  {
   "cell_type": "code",
   "execution_count": 22,
   "metadata": {},
   "outputs": [],
   "source": [
    "for i in np.arange(n):\n",
    "    for j in np.arange(m):\n",
    "        mf.write(b[i][j])"
   ]
  },
  {
   "cell_type": "code",
   "execution_count": 23,
   "metadata": {},
   "outputs": [
    {
     "data": {
      "text/plain": [
       "<_io.TextIOWrapper name='myfile.txt' mode='w' encoding='UTF-8'>"
      ]
     },
     "execution_count": 23,
     "metadata": {},
     "output_type": "execute_result"
    }
   ],
   "source": [
    "mf #it seems like that write in txt is working, but the numbers don't align with each other "
   ]
  },
  {
   "cell_type": "code",
   "execution_count": 24,
   "metadata": {},
   "outputs": [],
   "source": [
    "mf.close()"
   ]
  },
  {
   "cell_type": "code",
   "execution_count": 25,
   "metadata": {},
   "outputs": [
    {
     "data": {
      "text/plain": [
       "['001111.069.60398-12.334830.145026997315.39539923983e-050.0003838.069.5969-12.320470.5029386029450.0002223037912451.0004242.069.57136-12.317950.00.0010.0005555.069.59832-12.311570.00.0010.0005757.069.5978429-12.3114420.00.0010.0007272.069.61111-12.30370.00.0010.0008080.069.55023-12.303390.00.0010.0008383.069.58752-12.302320.00.0010.0008585.069.56567-12.301470.00.0010.00111111.069.59927-12.294140.00.0010.00114114.069.52129-12.28930.00.0010.00119119.069.5651-12.289240.00.0010.00125125.069.53808-12.288830.00.0010.00126126.069.54177-12.287820.00.0010.00128128.069.60646-12.286680.3698642078588.03355766875e-050.00164164.069.52007-12.246710.5813698622130.0002164964403472.00182182.069.53533-12.250250.00.0010.00185185.069.52459-12.249470.5851157870020.0001041620600080.00190190.069.55228-12.252920.00.0010.0']"
      ]
     },
     "execution_count": 25,
     "metadata": {},
     "output_type": "execute_result"
    }
   ],
   "source": [
    "mff = open('myfile.txt', 'r')\n",
    "mff.readlines()"
   ]
  },
  {
   "cell_type": "code",
   "execution_count": 26,
   "metadata": {},
   "outputs": [],
   "source": [
    "mf = open('myfile.txt', 'w')\n",
    "for i in np.arange(n):\n",
    "    for j in np.arange(m):\n",
    "        mf.write(b[i][j])\n",
    "        if j==m-1:\n",
    "            mf.write('\\n')\n",
    "mf.close()"
   ]
  },
  {
   "cell_type": "code",
   "execution_count": 27,
   "metadata": {},
   "outputs": [
    {
     "data": {
      "text/plain": [
       "['001111.069.60398-12.334830.145026997315.39539923983e-050.0\\n',\n",
       " '003838.069.5969-12.320470.5029386029450.0002223037912451.0\\n',\n",
       " '004242.069.57136-12.317950.00.0010.0\\n',\n",
       " '005555.069.59832-12.311570.00.0010.0\\n',\n",
       " '005757.069.5978429-12.3114420.00.0010.0\\n',\n",
       " '007272.069.61111-12.30370.00.0010.0\\n',\n",
       " '008080.069.55023-12.303390.00.0010.0\\n',\n",
       " '008383.069.58752-12.302320.00.0010.0\\n',\n",
       " '008585.069.56567-12.301470.00.0010.0\\n',\n",
       " '0111111.069.59927-12.294140.00.0010.0\\n',\n",
       " '0114114.069.52129-12.28930.00.0010.0\\n',\n",
       " '0119119.069.5651-12.289240.00.0010.0\\n',\n",
       " '0125125.069.53808-12.288830.00.0010.0\\n',\n",
       " '0126126.069.54177-12.287820.00.0010.0\\n',\n",
       " '0128128.069.60646-12.286680.3698642078588.03355766875e-050.0\\n',\n",
       " '0164164.069.52007-12.246710.5813698622130.0002164964403472.0\\n',\n",
       " '0182182.069.53533-12.250250.00.0010.0\\n',\n",
       " '0185185.069.52459-12.249470.5851157870020.0001041620600080.0\\n',\n",
       " '0190190.069.55228-12.252920.00.0010.0\\n']"
      ]
     },
     "execution_count": 27,
     "metadata": {},
     "output_type": "execute_result"
    }
   ],
   "source": [
    "mff = open('myfile.txt', 'r')\n",
    "mff.readlines()"
   ]
  },
  {
   "cell_type": "code",
   "execution_count": 28,
   "metadata": {},
   "outputs": [],
   "source": [
    "mf = open('myfile.txt', 'w')\n",
    "for i in np.arange(n):\n",
    "    for j in np.arange(m):\n",
    "        #mf.write('%.10s' %b[i][j]),#Can I use string format here?\n",
    "        mf.write(b[i][j])\n",
    "        mf.write(' ')\n",
    "        if j==m-1:\n",
    "            mf.write('\\n')\n",
    "mf.close()"
   ]
  },
  {
   "cell_type": "code",
   "execution_count": 29,
   "metadata": {},
   "outputs": [
    {
     "data": {
      "text/plain": [
       "['0011 11.0 69.60398 -12.33483 0.14502699731 5.39539923983e-05 0.0 \\n',\n",
       " '0038 38.0 69.5969 -12.32047 0.502938602945 0.000222303791245 1.0 \\n',\n",
       " '0042 42.0 69.57136 -12.31795 0.0 0.001 0.0 \\n',\n",
       " '0055 55.0 69.59832 -12.31157 0.0 0.001 0.0 \\n',\n",
       " '0057 57.0 69.5978429 -12.311442 0.0 0.001 0.0 \\n',\n",
       " '0072 72.0 69.61111 -12.3037 0.0 0.001 0.0 \\n',\n",
       " '0080 80.0 69.55023 -12.30339 0.0 0.001 0.0 \\n',\n",
       " '0083 83.0 69.58752 -12.30232 0.0 0.001 0.0 \\n',\n",
       " '0085 85.0 69.56567 -12.30147 0.0 0.001 0.0 \\n',\n",
       " '0111 111.0 69.59927 -12.29414 0.0 0.001 0.0 \\n',\n",
       " '0114 114.0 69.52129 -12.2893 0.0 0.001 0.0 \\n',\n",
       " '0119 119.0 69.5651 -12.28924 0.0 0.001 0.0 \\n',\n",
       " '0125 125.0 69.53808 -12.28883 0.0 0.001 0.0 \\n',\n",
       " '0126 126.0 69.54177 -12.28782 0.0 0.001 0.0 \\n',\n",
       " '0128 128.0 69.60646 -12.28668 0.369864207858 8.03355766875e-05 0.0 \\n',\n",
       " '0164 164.0 69.52007 -12.24671 0.581369862213 0.000216496440347 2.0 \\n',\n",
       " '0182 182.0 69.53533 -12.25025 0.0 0.001 0.0 \\n',\n",
       " '0185 185.0 69.52459 -12.24947 0.585115787002 0.000104162060008 0.0 \\n',\n",
       " '0190 190.0 69.55228 -12.25292 0.0 0.001 0.0 \\n']"
      ]
     },
     "execution_count": 29,
     "metadata": {},
     "output_type": "execute_result"
    }
   ],
   "source": [
    "mff = open('myfile.txt', 'r')\n",
    "mff.readlines()"
   ]
  },
  {
   "cell_type": "markdown",
   "metadata": {},
   "source": [
    "??? in reality, it happens that we generate a big array (float) and want to write it into txt/ascii file, but here write function just accept str. What should we do: change float to string ?"
   ]
  },
  {
   "cell_type": "code",
   "execution_count": 30,
   "metadata": {},
   "outputs": [
    {
     "ename": "TypeError",
     "evalue": "write() argument must be str, not numpy.float64",
     "output_type": "error",
     "traceback": [
      "\u001b[0;31m---------------------------------------------------------------------------\u001b[0m",
      "\u001b[0;31mTypeError\u001b[0m                                 Traceback (most recent call last)",
      "\u001b[0;32m<ipython-input-30-68cac0e237e7>\u001b[0m in \u001b[0;36m<module>\u001b[0;34m\u001b[0m\n\u001b[1;32m      2\u001b[0m \u001b[0;32mfor\u001b[0m \u001b[0mi\u001b[0m \u001b[0;32min\u001b[0m \u001b[0mnp\u001b[0m\u001b[0;34m.\u001b[0m\u001b[0marange\u001b[0m\u001b[0;34m(\u001b[0m\u001b[0mn\u001b[0m\u001b[0;34m)\u001b[0m\u001b[0;34m:\u001b[0m\u001b[0;34m\u001b[0m\u001b[0;34m\u001b[0m\u001b[0m\n\u001b[1;32m      3\u001b[0m     \u001b[0;32mfor\u001b[0m \u001b[0mj\u001b[0m \u001b[0;32min\u001b[0m \u001b[0mnp\u001b[0m\u001b[0;34m.\u001b[0m\u001b[0marange\u001b[0m\u001b[0;34m(\u001b[0m\u001b[0mm\u001b[0m\u001b[0;34m)\u001b[0m\u001b[0;34m:\u001b[0m\u001b[0;34m\u001b[0m\u001b[0;34m\u001b[0m\u001b[0m\n\u001b[0;32m----> 4\u001b[0;31m         \u001b[0mmf\u001b[0m\u001b[0;34m.\u001b[0m\u001b[0mwrite\u001b[0m\u001b[0;34m(\u001b[0m\u001b[0mnew_array\u001b[0m\u001b[0;34m[\u001b[0m\u001b[0mi\u001b[0m\u001b[0;34m]\u001b[0m\u001b[0;34m[\u001b[0m\u001b[0mj\u001b[0m\u001b[0;34m]\u001b[0m\u001b[0;34m)\u001b[0m\u001b[0;34m\u001b[0m\u001b[0;34m\u001b[0m\u001b[0m\n\u001b[0m\u001b[1;32m      5\u001b[0m         \u001b[0mmf\u001b[0m\u001b[0;34m.\u001b[0m\u001b[0mwrite\u001b[0m\u001b[0;34m(\u001b[0m\u001b[0;34m' '\u001b[0m\u001b[0;34m)\u001b[0m\u001b[0;34m\u001b[0m\u001b[0;34m\u001b[0m\u001b[0m\n\u001b[1;32m      6\u001b[0m         \u001b[0;32mif\u001b[0m \u001b[0mj\u001b[0m\u001b[0;34m==\u001b[0m\u001b[0mm\u001b[0m\u001b[0;34m-\u001b[0m\u001b[0;36m1\u001b[0m\u001b[0;34m:\u001b[0m\u001b[0;34m\u001b[0m\u001b[0;34m\u001b[0m\u001b[0m\n",
      "\u001b[0;31mTypeError\u001b[0m: write() argument must be str, not numpy.float64"
     ]
    }
   ],
   "source": [
    "mf = open('myfile.txt', 'w')\n",
    "for i in np.arange(n):\n",
    "    for j in np.arange(m):\n",
    "        mf.write(new_array[i][j])\n",
    "        mf.write(' ')\n",
    "        if j==m-1:\n",
    "            mf.write('\\n')\n",
    "mf.close()"
   ]
  },
  {
   "cell_type": "code",
   "execution_count": null,
   "metadata": {},
   "outputs": [],
   "source": []
  },
  {
   "cell_type": "code",
   "execution_count": null,
   "metadata": {},
   "outputs": [],
   "source": []
  }
 ],
 "metadata": {
  "kernelspec": {
   "display_name": "Python 3",
   "language": "python",
   "name": "python3"
  },
  "language_info": {
   "codemirror_mode": {
    "name": "ipython",
    "version": 3
   },
   "file_extension": ".py",
   "mimetype": "text/x-python",
   "name": "python",
   "nbconvert_exporter": "python",
   "pygments_lexer": "ipython3",
   "version": "3.7.4"
  }
 },
 "nbformat": 4,
 "nbformat_minor": 2
}
