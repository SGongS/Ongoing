{
 "cells": [
  {
   "cell_type": "markdown",
   "metadata": {},
   "source": [
    "#Try to build a numpy array with the data in data.txt  using f = open('data.txt') instead if np.loadtxt and np.genfromtxt. "
   ]
  },
  {
   "cell_type": "code",
   "execution_count": 29,
   "metadata": {},
   "outputs": [],
   "source": [
    "import numpy as np"
   ]
  },
  {
   "cell_type": "markdown",
   "metadata": {},
   "source": [
    "I try way 'a' and way 'b' to get rid of \\n"
   ]
  },
  {
   "cell_type": "code",
   "execution_count": 2,
   "metadata": {},
   "outputs": [],
   "source": [
    "f = open('data.txt', 'r')\n",
    "a = [line.strip().split() for line in f]#a is a list"
   ]
  },
  {
   "cell_type": "code",
   "execution_count": 30,
   "metadata": {},
   "outputs": [],
   "source": [
    "f = open('data.txt', 'r')\n",
    "b = np.array([line.strip().split() for line in f])#b is an array\n",
    "b = b[1:len(b)]#\"!head data.txt -2 \" this code doen't work"
   ]
  },
  {
   "cell_type": "code",
   "execution_count": 5,
   "metadata": {},
   "outputs": [
    {
     "name": "stdout",
     "output_type": "stream",
     "text": [
      "object\n",
      "(19,)\n",
      "19\n"
     ]
    }
   ],
   "source": [
    "print(b.dtype)\n",
    "print(b.shape)\n",
    "print(b.size)"
   ]
  },
  {
   "cell_type": "markdown",
   "metadata": {},
   "source": [
    "??? how to create an array in an easy way which is not a list like 'a' or not an object like 'b'. "
   ]
  },
  {
   "cell_type": "code",
   "execution_count": 8,
   "metadata": {},
   "outputs": [
    {
     "data": {
      "text/plain": [
       "array([list(['0011', '11.0', '69.60398', '-12.33483', '0.14502699731', '5.39539923983e-05', '0.0']),\n",
       "       list(['0038', '38.0', '69.5969', '-12.32047', '0.502938602945', '0.000222303791245', '1.0']),\n",
       "       list(['0042', '42.0', '69.57136', '-12.31795', '0.0', '0.001', '0.0']),\n",
       "       list(['0055', '55.0', '69.59832', '-12.31157', '0.0', '0.001', '0.0']),\n",
       "       list(['0057', '57.0', '69.5978429', '-12.311442', '0.0', '0.001', '0.0']),\n",
       "       list(['0072', '72.0', '69.61111', '-12.3037', '0.0', '0.001', '0.0']),\n",
       "       list(['0080', '80.0', '69.55023', '-12.30339', '0.0', '0.001', '0.0']),\n",
       "       list(['0083', '83.0', '69.58752', '-12.30232', '0.0', '0.001', '0.0']),\n",
       "       list(['0085', '85.0', '69.56567', '-12.30147', '0.0', '0.001', '0.0']),\n",
       "       list(['0111', '111.0', '69.59927', '-12.29414', '0.0', '0.001', '0.0']),\n",
       "       list(['0114', '114.0', '69.52129', '-12.2893', '0.0', '0.001', '0.0']),\n",
       "       list(['0119', '119.0', '69.5651', '-12.28924', '0.0', '0.001', '0.0']),\n",
       "       list(['0125', '125.0', '69.53808', '-12.28883', '0.0', '0.001', '0.0']),\n",
       "       list(['0126', '126.0', '69.54177', '-12.28782', '0.0', '0.001', '0.0']),\n",
       "       list(['0128', '128.0', '69.60646', '-12.28668', '0.369864207858', '8.03355766875e-05', '0.0']),\n",
       "       list(['0164', '164.0', '69.52007', '-12.24671', '0.581369862213', '0.000216496440347', '2.0']),\n",
       "       list(['0182', '182.0', '69.53533', '-12.25025', '0.0', '0.001', '0.0']),\n",
       "       list(['0185', '185.0', '69.52459', '-12.24947', '0.585115787002', '0.000104162060008', '0.0']),\n",
       "       list(['0190', '190.0', '69.55228', '-12.25292', '0.0', '0.001', '0.0'])],\n",
       "      dtype=object)"
      ]
     },
     "execution_count": 8,
     "metadata": {},
     "output_type": "execute_result"
    }
   ],
   "source": [
    "b # I want to crate a float array from b"
   ]
  },
  {
   "cell_type": "code",
   "execution_count": 31,
   "metadata": {},
   "outputs": [],
   "source": [
    "n = len(b)\n",
    "m = len(b[0])"
   ]
  },
  {
   "cell_type": "code",
   "execution_count": 32,
   "metadata": {},
   "outputs": [],
   "source": [
    "new_array = np.empty(shape=(n,m))"
   ]
  },
  {
   "cell_type": "code",
   "execution_count": 33,
   "metadata": {},
   "outputs": [
    {
     "data": {
      "text/plain": [
       "'0011'"
      ]
     },
     "execution_count": 33,
     "metadata": {},
     "output_type": "execute_result"
    }
   ],
   "source": [
    "b[0][0]"
   ]
  },
  {
   "cell_type": "markdown",
   "metadata": {},
   "source": [
    "??? I have to use two for loop so that I can extract data from b"
   ]
  },
  {
   "cell_type": "code",
   "execution_count": 34,
   "metadata": {},
   "outputs": [],
   "source": [
    "for i in np.arange(n):\n",
    "    for j in np.arange(m):\n",
    "        new_array[i,j]=b[i][j]"
   ]
  },
  {
   "cell_type": "code",
   "execution_count": 36,
   "metadata": {},
   "outputs": [
    {
     "data": {
      "text/plain": [
       "dtype('float64')"
      ]
     },
     "execution_count": 36,
     "metadata": {},
     "output_type": "execute_result"
    }
   ],
   "source": [
    "new_array.dtype"
   ]
  },
  {
   "cell_type": "code",
   "execution_count": 38,
   "metadata": {},
   "outputs": [
    {
     "name": "stdout",
     "output_type": "stream",
     "text": [
      "float64\n"
     ]
    }
   ],
   "source": [
    "g = np.genfromtxt('data.txt')\n",
    "print(g.dtype)"
   ]
  },
  {
   "cell_type": "code",
   "execution_count": 39,
   "metadata": {},
   "outputs": [
    {
     "data": {
      "text/plain": [
       "array([[0., 0., 0., 0., 0., 0., 0.],\n",
       "       [0., 0., 0., 0., 0., 0., 0.],\n",
       "       [0., 0., 0., 0., 0., 0., 0.],\n",
       "       [0., 0., 0., 0., 0., 0., 0.],\n",
       "       [0., 0., 0., 0., 0., 0., 0.],\n",
       "       [0., 0., 0., 0., 0., 0., 0.],\n",
       "       [0., 0., 0., 0., 0., 0., 0.],\n",
       "       [0., 0., 0., 0., 0., 0., 0.],\n",
       "       [0., 0., 0., 0., 0., 0., 0.],\n",
       "       [0., 0., 0., 0., 0., 0., 0.],\n",
       "       [0., 0., 0., 0., 0., 0., 0.],\n",
       "       [0., 0., 0., 0., 0., 0., 0.],\n",
       "       [0., 0., 0., 0., 0., 0., 0.],\n",
       "       [0., 0., 0., 0., 0., 0., 0.],\n",
       "       [0., 0., 0., 0., 0., 0., 0.],\n",
       "       [0., 0., 0., 0., 0., 0., 0.],\n",
       "       [0., 0., 0., 0., 0., 0., 0.],\n",
       "       [0., 0., 0., 0., 0., 0., 0.],\n",
       "       [0., 0., 0., 0., 0., 0., 0.]])"
      ]
     },
     "execution_count": 39,
     "metadata": {},
     "output_type": "execute_result"
    }
   ],
   "source": [
    "new_array-g"
   ]
  },
  {
   "cell_type": "markdown",
   "metadata": {},
   "source": [
    "I want to create a new txt file and write in something, but it doen't really work"
   ]
  },
  {
   "cell_type": "code",
   "execution_count": 50,
   "metadata": {},
   "outputs": [
    {
     "ename": "TypeError",
     "evalue": "write() argument must be str, not list",
     "output_type": "error",
     "traceback": [
      "\u001b[1;31m---------------------------------------------------------------------------\u001b[0m",
      "\u001b[1;31mTypeError\u001b[0m                                 Traceback (most recent call last)",
      "\u001b[1;32m<ipython-input-50-e47f6631dbec>\u001b[0m in \u001b[0;36m<module>\u001b[1;34m\u001b[0m\n\u001b[0;32m      1\u001b[0m \u001b[0mmf\u001b[0m \u001b[1;33m=\u001b[0m \u001b[0mopen\u001b[0m\u001b[1;33m(\u001b[0m\u001b[1;34m'myfile.txt'\u001b[0m\u001b[1;33m,\u001b[0m \u001b[1;34m'w'\u001b[0m\u001b[1;33m)\u001b[0m\u001b[1;31m#create a new txt file\u001b[0m\u001b[1;33m\u001b[0m\u001b[1;33m\u001b[0m\u001b[0m\n\u001b[0;32m      2\u001b[0m \u001b[1;32mfor\u001b[0m \u001b[0mi\u001b[0m \u001b[1;32min\u001b[0m \u001b[0mnp\u001b[0m\u001b[1;33m.\u001b[0m\u001b[0marange\u001b[0m\u001b[1;33m(\u001b[0m\u001b[0mn\u001b[0m\u001b[1;33m)\u001b[0m\u001b[1;33m:\u001b[0m\u001b[1;33m\u001b[0m\u001b[1;33m\u001b[0m\u001b[0m\n\u001b[1;32m----> 3\u001b[1;33m     \u001b[0mmf\u001b[0m\u001b[1;33m.\u001b[0m\u001b[0mwrite\u001b[0m\u001b[1;33m(\u001b[0m\u001b[0mb\u001b[0m\u001b[1;33m[\u001b[0m\u001b[0mi\u001b[0m\u001b[1;33m]\u001b[0m\u001b[1;33m)\u001b[0m\u001b[1;33m\u001b[0m\u001b[1;33m\u001b[0m\u001b[0m\n\u001b[0m",
      "\u001b[1;31mTypeError\u001b[0m: write() argument must be str, not list"
     ]
    }
   ],
   "source": [
    "mf = open('myfile.txt', 'w')#create a new txt file\n",
    "for i in np.arange(n):\n",
    "    mf.write(b[i])"
   ]
  },
  {
   "cell_type": "markdown",
   "metadata": {},
   "source": [
    "??? b[i] is a list, but it is a string list, I have to take the string elements one by one out of b[i]"
   ]
  },
  {
   "cell_type": "code",
   "execution_count": 12,
   "metadata": {},
   "outputs": [
    {
     "data": {
      "text/plain": [
       "7"
      ]
     },
     "execution_count": 12,
     "metadata": {},
     "output_type": "execute_result"
    }
   ],
   "source": [
    "len(b[0])"
   ]
  },
  {
   "cell_type": "code",
   "execution_count": 51,
   "metadata": {},
   "outputs": [],
   "source": [
    "for i in np.arange(n):\n",
    "    for j in np.arange(m):\n",
    "        mf.write(b[i][j])"
   ]
  },
  {
   "cell_type": "code",
   "execution_count": 16,
   "metadata": {},
   "outputs": [
    {
     "data": {
      "text/plain": [
       "<_io.TextIOWrapper name='myfile.txt' mode='w' encoding='cp1252'>"
      ]
     },
     "execution_count": 16,
     "metadata": {},
     "output_type": "execute_result"
    }
   ],
   "source": [
    "mf #it seems like that write in txt is working, but the numbers don't align with each other "
   ]
  },
  {
   "cell_type": "code",
   "execution_count": 52,
   "metadata": {},
   "outputs": [],
   "source": [
    "mf.close()"
   ]
  },
  {
   "cell_type": "code",
   "execution_count": 53,
   "metadata": {},
   "outputs": [
    {
     "data": {
      "text/plain": [
       "['001111.069.60398-12.334830.145026997315.39539923983e-050.0003838.069.5969-12.320470.5029386029450.0002223037912451.0004242.069.57136-12.317950.00.0010.0005555.069.59832-12.311570.00.0010.0005757.069.5978429-12.3114420.00.0010.0007272.069.61111-12.30370.00.0010.0008080.069.55023-12.303390.00.0010.0008383.069.58752-12.302320.00.0010.0008585.069.56567-12.301470.00.0010.00111111.069.59927-12.294140.00.0010.00114114.069.52129-12.28930.00.0010.00119119.069.5651-12.289240.00.0010.00125125.069.53808-12.288830.00.0010.00126126.069.54177-12.287820.00.0010.00128128.069.60646-12.286680.3698642078588.03355766875e-050.00164164.069.52007-12.246710.5813698622130.0002164964403472.00182182.069.53533-12.250250.00.0010.00185185.069.52459-12.249470.5851157870020.0001041620600080.00190190.069.55228-12.252920.00.0010.0']"
      ]
     },
     "execution_count": 53,
     "metadata": {},
     "output_type": "execute_result"
    }
   ],
   "source": [
    "mff = open('myfile.txt', 'r')\n",
    "mff.readlines()"
   ]
  },
  {
   "cell_type": "code",
   "execution_count": 55,
   "metadata": {},
   "outputs": [],
   "source": [
    "mf = open('myfile.txt', 'w')\n",
    "for i in np.arange(n):\n",
    "    for j in np.arange(m):\n",
    "        mf.write(b[i][j])\n",
    "        if j==m-1:\n",
    "            mf.write('\\n')\n",
    "mf.close()"
   ]
  },
  {
   "cell_type": "code",
   "execution_count": 56,
   "metadata": {},
   "outputs": [
    {
     "data": {
      "text/plain": [
       "['001111.069.60398-12.334830.145026997315.39539923983e-050.0\\n',\n",
       " '003838.069.5969-12.320470.5029386029450.0002223037912451.0\\n',\n",
       " '004242.069.57136-12.317950.00.0010.0\\n',\n",
       " '005555.069.59832-12.311570.00.0010.0\\n',\n",
       " '005757.069.5978429-12.3114420.00.0010.0\\n',\n",
       " '007272.069.61111-12.30370.00.0010.0\\n',\n",
       " '008080.069.55023-12.303390.00.0010.0\\n',\n",
       " '008383.069.58752-12.302320.00.0010.0\\n',\n",
       " '008585.069.56567-12.301470.00.0010.0\\n',\n",
       " '0111111.069.59927-12.294140.00.0010.0\\n',\n",
       " '0114114.069.52129-12.28930.00.0010.0\\n',\n",
       " '0119119.069.5651-12.289240.00.0010.0\\n',\n",
       " '0125125.069.53808-12.288830.00.0010.0\\n',\n",
       " '0126126.069.54177-12.287820.00.0010.0\\n',\n",
       " '0128128.069.60646-12.286680.3698642078588.03355766875e-050.0\\n',\n",
       " '0164164.069.52007-12.246710.5813698622130.0002164964403472.0\\n',\n",
       " '0182182.069.53533-12.250250.00.0010.0\\n',\n",
       " '0185185.069.52459-12.249470.5851157870020.0001041620600080.0\\n',\n",
       " '0190190.069.55228-12.252920.00.0010.0\\n']"
      ]
     },
     "execution_count": 56,
     "metadata": {},
     "output_type": "execute_result"
    }
   ],
   "source": [
    "mff = open('myfile.txt', 'r')\n",
    "mff.readlines()"
   ]
  },
  {
   "cell_type": "code",
   "execution_count": 60,
   "metadata": {},
   "outputs": [],
   "source": [
    "mf = open('myfile.txt', 'w')\n",
    "for i in np.arange(n):\n",
    "    for j in np.arange(m):\n",
    "        #mf.write('%.10s' %b[i][j]),#Can I use string format here?\n",
    "        mf.write(b[i][j])\n",
    "        mf.write(' ')\n",
    "        if j==m-1:\n",
    "            mf.write('\\n')\n",
    "mf.close()"
   ]
  },
  {
   "cell_type": "code",
   "execution_count": 61,
   "metadata": {},
   "outputs": [
    {
     "data": {
      "text/plain": [
       "['0011 11.0 69.60398 -12.33483 0.14502699731 5.39539923983e-05 0.0 \\n',\n",
       " '0038 38.0 69.5969 -12.32047 0.502938602945 0.000222303791245 1.0 \\n',\n",
       " '0042 42.0 69.57136 -12.31795 0.0 0.001 0.0 \\n',\n",
       " '0055 55.0 69.59832 -12.31157 0.0 0.001 0.0 \\n',\n",
       " '0057 57.0 69.5978429 -12.311442 0.0 0.001 0.0 \\n',\n",
       " '0072 72.0 69.61111 -12.3037 0.0 0.001 0.0 \\n',\n",
       " '0080 80.0 69.55023 -12.30339 0.0 0.001 0.0 \\n',\n",
       " '0083 83.0 69.58752 -12.30232 0.0 0.001 0.0 \\n',\n",
       " '0085 85.0 69.56567 -12.30147 0.0 0.001 0.0 \\n',\n",
       " '0111 111.0 69.59927 -12.29414 0.0 0.001 0.0 \\n',\n",
       " '0114 114.0 69.52129 -12.2893 0.0 0.001 0.0 \\n',\n",
       " '0119 119.0 69.5651 -12.28924 0.0 0.001 0.0 \\n',\n",
       " '0125 125.0 69.53808 -12.28883 0.0 0.001 0.0 \\n',\n",
       " '0126 126.0 69.54177 -12.28782 0.0 0.001 0.0 \\n',\n",
       " '0128 128.0 69.60646 -12.28668 0.369864207858 8.03355766875e-05 0.0 \\n',\n",
       " '0164 164.0 69.52007 -12.24671 0.581369862213 0.000216496440347 2.0 \\n',\n",
       " '0182 182.0 69.53533 -12.25025 0.0 0.001 0.0 \\n',\n",
       " '0185 185.0 69.52459 -12.24947 0.585115787002 0.000104162060008 0.0 \\n',\n",
       " '0190 190.0 69.55228 -12.25292 0.0 0.001 0.0 \\n']"
      ]
     },
     "execution_count": 61,
     "metadata": {},
     "output_type": "execute_result"
    }
   ],
   "source": [
    "mff = open('myfile.txt', 'r')\n",
    "mff.readlines()"
   ]
  },
  {
   "cell_type": "markdown",
   "metadata": {},
   "source": [
    "??? in reality, it happens that we generate a big array (float) and want to write it into txt/ascii file, but here write function just accept str. What should we do: change float to string ?"
   ]
  },
  {
   "cell_type": "code",
   "execution_count": 62,
   "metadata": {},
   "outputs": [
    {
     "ename": "TypeError",
     "evalue": "write() argument must be str, not numpy.float64",
     "output_type": "error",
     "traceback": [
      "\u001b[1;31m---------------------------------------------------------------------------\u001b[0m",
      "\u001b[1;31mTypeError\u001b[0m                                 Traceback (most recent call last)",
      "\u001b[1;32m<ipython-input-62-68cac0e237e7>\u001b[0m in \u001b[0;36m<module>\u001b[1;34m\u001b[0m\n\u001b[0;32m      2\u001b[0m \u001b[1;32mfor\u001b[0m \u001b[0mi\u001b[0m \u001b[1;32min\u001b[0m \u001b[0mnp\u001b[0m\u001b[1;33m.\u001b[0m\u001b[0marange\u001b[0m\u001b[1;33m(\u001b[0m\u001b[0mn\u001b[0m\u001b[1;33m)\u001b[0m\u001b[1;33m:\u001b[0m\u001b[1;33m\u001b[0m\u001b[1;33m\u001b[0m\u001b[0m\n\u001b[0;32m      3\u001b[0m     \u001b[1;32mfor\u001b[0m \u001b[0mj\u001b[0m \u001b[1;32min\u001b[0m \u001b[0mnp\u001b[0m\u001b[1;33m.\u001b[0m\u001b[0marange\u001b[0m\u001b[1;33m(\u001b[0m\u001b[0mm\u001b[0m\u001b[1;33m)\u001b[0m\u001b[1;33m:\u001b[0m\u001b[1;33m\u001b[0m\u001b[1;33m\u001b[0m\u001b[0m\n\u001b[1;32m----> 4\u001b[1;33m         \u001b[0mmf\u001b[0m\u001b[1;33m.\u001b[0m\u001b[0mwrite\u001b[0m\u001b[1;33m(\u001b[0m\u001b[0mnew_array\u001b[0m\u001b[1;33m[\u001b[0m\u001b[0mi\u001b[0m\u001b[1;33m]\u001b[0m\u001b[1;33m[\u001b[0m\u001b[0mj\u001b[0m\u001b[1;33m]\u001b[0m\u001b[1;33m)\u001b[0m\u001b[1;33m\u001b[0m\u001b[1;33m\u001b[0m\u001b[0m\n\u001b[0m\u001b[0;32m      5\u001b[0m         \u001b[0mmf\u001b[0m\u001b[1;33m.\u001b[0m\u001b[0mwrite\u001b[0m\u001b[1;33m(\u001b[0m\u001b[1;34m' '\u001b[0m\u001b[1;33m)\u001b[0m\u001b[1;33m\u001b[0m\u001b[1;33m\u001b[0m\u001b[0m\n\u001b[0;32m      6\u001b[0m         \u001b[1;32mif\u001b[0m \u001b[0mj\u001b[0m\u001b[1;33m==\u001b[0m\u001b[0mm\u001b[0m\u001b[1;33m-\u001b[0m\u001b[1;36m1\u001b[0m\u001b[1;33m:\u001b[0m\u001b[1;33m\u001b[0m\u001b[1;33m\u001b[0m\u001b[0m\n",
      "\u001b[1;31mTypeError\u001b[0m: write() argument must be str, not numpy.float64"
     ]
    }
   ],
   "source": [
    "mf = open('myfile.txt', 'w')\n",
    "for i in np.arange(n):\n",
    "    for j in np.arange(m):\n",
    "        mf.write(new_array[i][j])\n",
    "        mf.write(' ')\n",
    "        if j==m-1:\n",
    "            mf.write('\\n')\n",
    "mf.close()"
   ]
  }
 ],
 "metadata": {
  "kernelspec": {
   "display_name": "Python 3",
   "language": "python",
   "name": "python3"
  },
  "language_info": {
   "codemirror_mode": {
    "name": "ipython",
    "version": 3
   },
   "file_extension": ".py",
   "mimetype": "text/x-python",
   "name": "python",
   "nbconvert_exporter": "python",
   "pygments_lexer": "ipython3",
   "version": "3.7.4"
  }
 },
 "nbformat": 4,
 "nbformat_minor": 2
}
